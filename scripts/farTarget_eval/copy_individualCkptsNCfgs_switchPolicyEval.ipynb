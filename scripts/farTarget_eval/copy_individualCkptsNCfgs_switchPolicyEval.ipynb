{
 "cells": [
  {
   "cell_type": "code",
   "execution_count": 1,
   "id": "excellent-variable",
   "metadata": {},
   "outputs": [],
   "source": [
    "import torch\n",
    "import os"
   ]
  },
  {
   "cell_type": "code",
   "execution_count": 4,
   "id": "wrapped-edwards",
   "metadata": {},
   "outputs": [],
   "source": [
    "NEAR_TARGET_CKPT_SOURCE_PATH = \"../../runs/val/nearTarget/temp_testSBVCkpt_100Upd_1G1P/data/ckpt.1.pth\"\n",
    "assert os.path.exists(NEAR_TARGET_CKPT_SOURCE_PATH)\n",
    "\n",
    "FAR_TARGET_CKPT_SOURCE_PATH = \"../../runs/val/farTarget/temp_testSBVCkpt_100Upd_1G1P/data/ckpt.1.pth\"\n",
    "assert os.path.exists(FAR_TARGET_CKPT_SOURCE_PATH)\n",
    "\n",
    "DUMP_DIR = \"../../runs/test/farTarget/temp_testSwitchPolicyEval_100Upd_1G1P/data\"\n",
    "if not os.path.isdir(DUMP_DIR):\n",
    "    os.makedirs(DUMP_DIR)\n",
    "DUMP_FILENAME = \"ckpt_polSwitch.pth\"\n",
    "DUMP_FILE_PATH = os.path.join(DUMP_DIR, DUMP_FILENAME)"
   ]
  },
  {
   "cell_type": "code",
   "execution_count": 3,
   "id": "sorted-nightmare",
   "metadata": {},
   "outputs": [],
   "source": [
    "nearTarget_dct = torch.load(NEAR_TARGET_CKPT_SOURCE_PATH, map_location=\"cpu\")\n",
    "farTarget_dct = torch.load(FAR_TARGET_CKPT_SOURCE_PATH, map_location=\"cpu\")"
   ]
  },
  {
   "cell_type": "code",
   "execution_count": 5,
   "id": "proved-closure",
   "metadata": {},
   "outputs": [],
   "source": [
    "dump_dct = {\"state_dict_nav\": farTarget_dct[\"state_dict\"],\n",
    "            \"config_nav\": farTarget_dct[\"config\"],\n",
    "            \"state_dict_qualImprov\": nearTarget_dct[\"state_dict\"],\n",
    "            \"config_qualImprov\": nearTarget_dct[\"config\"]}\n",
    "\n",
    "torch.save(\n",
    "    dump_dct, DUMP_FILE_PATH\n",
    ")"
   ]
  }
 ],
 "metadata": {
  "kernelspec": {
   "display_name": "Python 3",
   "language": "python",
   "name": "python3"
  },
  "language_info": {
   "codemirror_mode": {
    "name": "ipython",
    "version": 3
   },
   "file_extension": ".py",
   "mimetype": "text/x-python",
   "name": "python",
   "nbconvert_exporter": "python",
   "pygments_lexer": "ipython3",
   "version": "3.6.12"
  }
 },
 "nbformat": 4,
 "nbformat_minor": 5
}
