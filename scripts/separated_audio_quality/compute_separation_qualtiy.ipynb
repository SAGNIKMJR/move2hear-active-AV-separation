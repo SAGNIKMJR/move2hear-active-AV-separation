{
 "cells": [
  {
   "cell_type": "code",
   "execution_count": 2,
   "id": "rural-gambling",
   "metadata": {},
   "outputs": [],
   "source": [
    "import numpy as np\n",
    "import os\n",
    "import pickle"
   ]
  },
  {
   "cell_type": "code",
   "execution_count": 28,
   "id": "secondary-nicholas",
   "metadata": {},
   "outputs": [],
   "source": [
    "SOURCE_DIR = \"../../runs/test/nearTarget/temp_testEval_100Upd_1G1P\"\n",
    "assert os.path.isdir(SOURCE_DIR)\n",
    "\n",
    "EVAL_METRICS_FILENAME = \"eval_metrics.pkl\"\n",
    "\n",
    "EVAL_METRICS_FILE_FULL_PATH = os.path.join(SOURCE_DIR, EVAL_METRICS_FILENAME)\n",
    "assert os.path.exists(EVAL_METRICS_FILE_FULL_PATH)\n",
    "\n",
    "TARGET_METRIC = \"si_sdr\" # \"STFT_L2_loss\", \"si_sdr\"\n",
    "PRED_TYPE = \"monoFromMem\" # \"mono\", \"monoFromMem\""
   ]
  },
  {
   "cell_type": "code",
   "execution_count": 29,
   "id": "ordered-curve",
   "metadata": {},
   "outputs": [],
   "source": [
    "with open(EVAL_METRICS_FILE_FULL_PATH, \"rb\") as fi:\n",
    "    eval_metrics_dct = pickle.load(fi)"
   ]
  },
  {
   "cell_type": "code",
   "execution_count": 30,
   "id": "criminal-scoop",
   "metadata": {},
   "outputs": [],
   "source": [
    "assert PRED_TYPE in eval_metrics_dct\n",
    "eval_metrics_dct_thisPredType = eval_metrics_dct[PRED_TYPE]\n",
    "\n",
    "assert TARGET_METRIC in eval_metrics_dct_thisPredType\n",
    "\n",
    "last_metricValue_perEpisode = []\n",
    "last_stepIdx = None\n",
    "for ep_idx in eval_metrics_dct_thisPredType[TARGET_METRIC]:\n",
    "    last_stepIdx_thisEpisode = sorted(list(eval_metrics_dct_thisPredType[TARGET_METRIC][ep_idx].keys()))[-1]\n",
    "    if last_stepIdx is None:\n",
    "        last_stepIdx = last_stepIdx_thisEpisode\n",
    "    assert last_stepIdx == last_stepIdx_thisEpisode\n",
    "    last_metricValue_perEpisode.append(eval_metrics_dct_thisPredType[TARGET_METRIC][ep_idx][last_stepIdx_thisEpisode])"
   ]
  },
  {
   "cell_type": "code",
   "execution_count": 31,
   "id": "terminal-mainstream",
   "metadata": {},
   "outputs": [
    {
     "name": "stdout",
     "output_type": "stream",
     "text": [
      "monoFromMem si_sdr mean: -3.785036653280258, std: 1.1243076622486115\n"
     ]
    }
   ],
   "source": [
    "print(f\"{PRED_TYPE} {TARGET_METRIC} mean: {np.mean(last_metricValue_perEpisode)}, std: {np.std(last_metricValue_perEpisode)}\")"
   ]
  }
 ],
 "metadata": {
  "kernelspec": {
   "display_name": "Python 3",
   "language": "python",
   "name": "python3"
  },
  "language_info": {
   "codemirror_mode": {
    "name": "ipython",
    "version": 3
   },
   "file_extension": ".py",
   "mimetype": "text/x-python",
   "name": "python",
   "nbconvert_exporter": "python",
   "pygments_lexer": "ipython3",
   "version": "3.6.12"
  }
 },
 "nbformat": 4,
 "nbformat_minor": 5
}
