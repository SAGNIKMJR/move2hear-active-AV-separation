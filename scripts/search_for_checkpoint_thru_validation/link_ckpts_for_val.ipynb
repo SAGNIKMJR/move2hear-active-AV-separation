{
 "cells": [
  {
   "cell_type": "code",
   "execution_count": 1,
   "id": "demographic-tracy",
   "metadata": {},
   "outputs": [],
   "source": [
    "import os"
   ]
  },
  {
   "cell_type": "code",
   "execution_count": 27,
   "id": "advisory-jaguar",
   "metadata": {},
   "outputs": [],
   "source": [
    "### replace with necessary ABSOLUTE paths to train and val dirs to avoid potential issues with symlinks\n",
    "SOURCE_DIR = \"/projects/move2hear-active-AV-separation/runs/train/farTarget/farTarget_38MSteps_8G14P/data\"\n",
    "DUMP_DIR = \"/projects/move2hear-active-AV-separation/runs/val/farTarget/farTarget_38MSteps_8G14P_unheard/data\" \n",
    "\n",
    "assert os.path.isdir(SOURCE_DIR)\n",
    "assert os.path.isdir(DUMP_DIR)\n",
    "\n",
    "START_CKPT_IDX = 100"
   ]
  },
  {
   "cell_type": "code",
   "execution_count": 28,
   "id": "spoken-composite",
   "metadata": {},
   "outputs": [],
   "source": [
    "for _, __, ckpt_files in os.walk(SOURCE_DIR):\n",
    "    break\n",
    "    \n",
    "for ckpt_idx in range(START_CKPT_IDX, int(ckpt_files[-1].split(\".\")[1]) + 1):\n",
    "    assert f\"ckpt.{ckpt_idx}.pth\" in ckpt_files\n",
    "    \n",
    "    source_ckpt_path = os.path.join(SOURCE_DIR, f\"ckpt.{ckpt_idx}.pth\")\n",
    "    assert os.path.exists(source_ckpt_path)\n",
    "    \n",
    "    dump_ckpt_path = os.path.join(DUMP_DIR, f\"ckpt.{ckpt_idx}.pth\")\n",
    "\n",
    "    os.system(f\"ln -s {source_ckpt_path} {dump_ckpt_path}\")   "
   ]
  }
 ],
 "metadata": {
  "kernelspec": {
   "display_name": "Python 3",
   "language": "python",
   "name": "python3"
  },
  "language_info": {
   "codemirror_mode": {
    "name": "ipython",
    "version": 3
   },
   "file_extension": ".py",
   "mimetype": "text/x-python",
   "name": "python",
   "nbconvert_exporter": "python",
   "pygments_lexer": "ipython3",
   "version": "3.6.12"
  }
 },
 "nbformat": 4,
 "nbformat_minor": 5
}
