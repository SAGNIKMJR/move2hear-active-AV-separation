{
 "cells": [
  {
   "cell_type": "code",
   "execution_count": null,
   "id": "white-cylinder",
   "metadata": {},
   "outputs": [],
   "source": [
    "import os"
   ]
  },
  {
   "cell_type": "code",
   "execution_count": null,
   "id": "entitled-lighter",
   "metadata": {},
   "outputs": [],
   "source": [
    "### replace with necessary path to val dir\n",
    "SOURCE_DIR = \"../../runs/val/nearTarget/nearTarget_38MSteps_8G14P/\"\n",
    "assert os.path.isdir(SOURCE_DIR)\n",
    "\n",
    "CKPT_DIR = os.path.join(SOURCE_DIR, \"data\")\n",
    "assert os.path.isdir(CKPT_DIR)\n",
    "\n",
    "TRAIN_LOG_PATH = os.path.join(SOURCE_DIR, \"train.log\")\n",
    "assert os.path.exists(TRAIN_LOG_PATH)"
   ]
  },
  {
   "cell_type": "code",
   "execution_count": null,
   "id": "operating-burden",
   "metadata": {},
   "outputs": [],
   "source": [
    "\"\"\"mono and monoFromMem losses\"\"\"\n",
    "ckpt2mono_lastStep_dct = {}\n",
    "ckpt2monoFromMem_lastStep_dct = {}\n",
    "ckpt_number = -1\n",
    "look_for_newCkpt = True\n",
    "with open(TRAIN_LOG_PATH, \"r\") as fo:\n",
    "    for line in fo:\n",
    "        if look_for_newCkpt and (len(line.split(\" \")) >= 3) and (line.split(\" \")[2] == \"Mono\") and (line.split(\" \")[7] == \"last\") and (line.split(\" \")[9] == \"---\"):\n",
    "            ckpt2mono_lastStep_dct[ckpt_number] = [float(line.split(\" \")[11][:-1]), float(line.split(\" \")[13][:-1])]\n",
    "    \n",
    "        if look_for_newCkpt and (len(line.split(\" \")) >= 3) and (line.split(\" \")[2] == \"MonoFromMem\") and (line.split(\" \")[7] == \"last\") and (line.split(\" \")[9] == \"---\"):\n",
    "            look_for_newCkpt = False\n",
    "            ckpt2monoFromMem_lastStep_dct[ckpt_number] = [float(line.split(\" \")[11][:-1]), float(line.split(\" \")[13][:-1])]\n",
    "                \n",
    "        if (not look_for_newCkpt) and (len(line.split(\" \")) >= 4) and (line.split(\" \")[2] == \"=======current_ckpt:\"):\n",
    "            look_for_newCkpt = True\n",
    "            ckpt_number = int(line.split(\" \")[-1].split(\"=======\")[0].split(\"/\")[-1].split(\".\")[1])            "
   ]
  },
  {
   "cell_type": "code",
   "execution_count": null,
   "id": "passing-louis",
   "metadata": {},
   "outputs": [],
   "source": [
    "ckpt_numbers = []\n",
    "missing_key = -1\n",
    "for (dirpath, dirnames, filenames) in os.walk(CKPT_DIR):\n",
    "    ckpt_numbers.extend(filenames)\n",
    "    break\n",
    "    \n",
    "for i in range(len(ckpt_numbers)):\n",
    "    ckpt_numbers[i] = int(ckpt_numbers[i].split(\".\")[1])\n",
    "    \n",
    "for key in ckpt_numbers:\n",
    "    if key not in list(ckpt2mono_lastStep_dct.keys()):\n",
    "        missing_key = key\n",
    "        \n",
    "ckpt2mono_lastStep_dct_final = {}\n",
    "ckpt2monoFromMem_lastStep_dct_final = {}\n",
    "for key in ckpt2mono_lastStep_dct:\n",
    "    if key == -1:\n",
    "        ckpt2mono_lastStep_dct_final[missing_key] = ckpt2mono_lastStep_dct[key]\n",
    "        ckpt2monoFromMem_lastStep_dct_final[missing_key] = ckpt2monoFromMem_lastStep_dct[key]\n",
    "    else:\n",
    "        ckpt2mono_lastStep_dct_final[key] = ckpt2mono_lastStep_dct[key]\n",
    "        ckpt2monoFromMem_lastStep_dct_final[key] = ckpt2monoFromMem_lastStep_dct[key]"
   ]
  },
  {
   "cell_type": "code",
   "execution_count": null,
   "id": "parallel-zambia",
   "metadata": {},
   "outputs": [],
   "source": [
    "min_mono_lastStep = [float(\"inf\"), 0]\n",
    "min_monoFromMem_lastStep = [float(\"inf\"), 0]\n",
    "\n",
    "for key, value in ckpt2mono_lastStep_dct_final.items():\n",
    "    if value[0] < min_mono_lastStep[0]:\n",
    "        min_mono_lastStep = value\n",
    "        bestCkpt_mono_lastStep = \"ckpt.\" + str(key) + \".pth\"\n",
    "        \n",
    "    if ckpt2monoFromMem_lastStep_dct_final[key][0] < min_monoFromMem_lastStep[0]:\n",
    "        min_monoFromMem_lastStep = ckpt2monoFromMem_lastStep_dct_final[key]\n",
    "        bestCkpt_monoFromMem_lastStep = \"ckpt.\" + str(key) + \".pth\"  \n",
    "        \n",
    "print(\"best validation checkpoint: \", bestCkpt_mono_lastStep,\n",
    "      \", mono_lastStep: mean -- {}, std -- {}\".format(min_mono_lastStep[0],\n",
    "                                                      min_mono_lastStep[1]))\n",
    "print(\"best validation checkpoint: \", bestCkpt_monoFromMem_lastStep,\n",
    "      \", monoFromMem_lastStep: mean -- {}, std -- {}\".format(min_monoFromMem_lastStep[0],\n",
    "                                                             min_monoFromMem_lastStep[1]))"
   ]
  }
 ],
 "metadata": {
  "kernelspec": {
   "display_name": "Python 3",
   "language": "python",
   "name": "python3"
  },
  "language_info": {
   "codemirror_mode": {
    "name": "ipython",
    "version": 3
   },
   "file_extension": ".py",
   "mimetype": "text/x-python",
   "name": "python",
   "nbconvert_exporter": "python",
   "pygments_lexer": "ipython3",
   "version": "3.6.12"
  }
 },
 "nbformat": 4,
 "nbformat_minor": 5
}
